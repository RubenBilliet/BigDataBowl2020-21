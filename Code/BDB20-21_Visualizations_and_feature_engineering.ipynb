{
 "cells": [
  {
   "cell_type": "markdown",
   "metadata": {},
   "source": [
    "# NFL BIG DATA BOWL 2020 - 2021\n",
    "\n",
    "# 0. Introduction\n",
    "In this notebook we continue on from the 'BDB20-21_EDA_and_cleanup' notebook, which performs the Exploratory Data Analysis, and does some basic data wrangling on this data.  \n",
    "This notebook focuses on some data visualizations to gain a better understanding on the data, and does some more elaborate feature engineering to create new data points in preparation for a machine learning algorithm"
   ]
  },
  {
   "cell_type": "markdown",
   "metadata": {},
   "source": [
    "# 1. Notebook preparation\n",
    "In this section of the notebook we load in all the necessary libraries, we read in the data and perform the data wrangling actions as found necessary in the BDB20-21_EDA_and_cleanup notebook."
   ]
  },
  {
   "cell_type": "code",
   "execution_count": 1,
   "metadata": {},
   "outputs": [
    {
     "data": {
      "text/html": [
       "        <script type=\"text/javascript\">\n",
       "        window.PlotlyConfig = {MathJaxConfig: 'local'};\n",
       "        if (window.MathJax) {MathJax.Hub.Config({SVG: {font: \"STIX-Web\"}});}\n",
       "        if (typeof require !== 'undefined') {\n",
       "        require.undef(\"plotly\");\n",
       "        requirejs.config({\n",
       "            paths: {\n",
       "                'plotly': ['https://cdn.plot.ly/plotly-latest.min']\n",
       "            }\n",
       "        });\n",
       "        require(['plotly'], function(Plotly) {\n",
       "            window._Plotly = Plotly;\n",
       "        });\n",
       "        }\n",
       "        </script>\n",
       "        "
      ]
     },
     "metadata": {},
     "output_type": "display_data"
    }
   ],
   "source": [
    "# Load libraries\n",
    "import pandas as pd\n",
    "import numpy as np\n",
    "import matplotlib.pyplot as plt\n",
    "import seaborn as sns\n",
    "sns.set(palette = 'deep')\n",
    "import datetime as dt\n",
    "import time\n",
    "from datetime import date\n",
    "from tqdm.notebook import tqdm\n",
    "import math\n",
    "import cv2\n",
    "import plotly as py\n",
    "import plotly.express as px\n",
    "import plotly.graph_objs as go\n",
    "import ipywidgets as widgets\n",
    "py.offline.init_notebook_mode(connected=True)"
   ]
  },
  {
   "cell_type": "code",
   "execution_count": 2,
   "metadata": {},
   "outputs": [
    {
     "data": {
      "application/vnd.jupyter.widget-view+json": {
       "model_id": "0e6ea9b450a64e6197891d61c6aa1951",
       "version_major": 2,
       "version_minor": 0
      },
      "text/plain": [
       "HBox(children=(FloatProgress(value=0.0, max=17.0), HTML(value='')))"
      ]
     },
     "metadata": {},
     "output_type": "display_data"
    },
    {
     "name": "stdout",
     "output_type": "stream",
     "text": [
      "\n"
     ]
    }
   ],
   "source": [
    "# Load the data\n",
    "# Import the data contained in individual files\n",
    "games = pd.read_csv(\"../Data/games.csv\")\n",
    "players = pd.read_csv(\"../Data/players.csv\")\n",
    "plays = pd.read_csv(\"../Data/plays.csv\")\n",
    "\n",
    "# Import the weekly tracking data\n",
    "weeks = range(1,18)\n",
    "tracking = pd.DataFrame()\n",
    "for i in tqdm(weeks):\n",
    "    week_data = pd.read_csv('../Data/week' + str(i) + '.csv')\n",
    "    week_data['week'] = i\n",
    "    tracking = tracking.append(week_data)"
   ]
  },
  {
   "cell_type": "code",
   "execution_count": 3,
   "metadata": {},
   "outputs": [],
   "source": [
    "# Clean up the games dataset based on EDA notebook\n",
    "games['gameDateTime'] = games.gameDate + \" - \" + games.gameTimeEastern\n",
    "games.gameDateTime = pd.to_datetime(games.gameDateTime, format = '%m/%d/%Y - %H:%M:%S')\n",
    "games['gameMonth'] = games.gameDateTime.dt.month_name()\n",
    "games['gameWeekDay'] = games.gameDateTime.dt.day_name()\n",
    "games['gameHour'] = games.gameDateTime.dt.hour\n",
    "games['gameTimeSlot'] = np.NaN\n",
    "games.loc[games.gameHour < 12, 'gameTimeSlot'] = 'Morning'\n",
    "games.loc[(games.gameHour >=12) & (games.gameHour < 15), 'gameTimeSlot'] = 'Noon'\n",
    "games.loc[(games.gameHour >=15) & (games.gameHour < 18), 'gameTimeSlot'] = 'Afternoon'\n",
    "games.loc[games.gameHour >=18, 'gameTimeSlot'] = 'Evening'\n",
    "games.drop(['gameHour', 'gameDate', 'gameTimeEastern'], axis = 1, inplace = True)\n",
    "games['week'] = games.week.astype(str)"
   ]
  },
  {
   "cell_type": "code",
   "execution_count": 4,
   "metadata": {},
   "outputs": [],
   "source": [
    "# Clean up the players dataset based on the EDA notebook\n",
    "players['nflId'] = players.nflId.astype(str)\n",
    "players.height = np.where(players.height.str.contains(\"-\"), players.height, \"0-\" + players.height)\n",
    "players.height = (players.height.str.split(\"-\").str[0].astype(int) *12) + players.height.str.split(\"-\").str[-1].astype(int)\n",
    "players['birthDate'] = pd.to_datetime(players.birthDate)\n",
    "players['age'] = ((pd.to_datetime(\"09/01/2018\", format = \"%m/%d/%Y\") - \n",
    "                  players.birthDate).dt.days/365.25).apply(np.floor).astype(int)\n",
    "\n",
    "players['consPosition'] = players.position\n",
    "players.consPosition = players.consPosition.replace('OLB','LB')\n",
    "players.consPosition = players.consPosition.replace('ILB','LB')\n",
    "players.consPosition = players.consPosition.replace('MLB','LB')\n",
    "players.consPosition = players.consPosition.replace('FS','S')\n",
    "players.consPosition = players.consPosition.replace('SS','S')\n",
    "players.consPosition = players.consPosition.replace('LS','S')\n",
    "players.consPosition = players.consPosition.replace('HB','RB')\n",
    "players.consPosition = players.consPosition.replace('NT','DT')\n",
    "players.consPosition = players.consPosition.replace('DB','CB')"
   ]
  },
  {
   "cell_type": "code",
   "execution_count": 5,
   "metadata": {},
   "outputs": [
    {
     "data": {
      "application/vnd.jupyter.widget-view+json": {
       "model_id": "14d0f2969e3346b989a1717ab3a9d793",
       "version_major": 2,
       "version_minor": 0
      },
      "text/plain": [
       "HBox(children=(FloatProgress(value=0.0, max=19239.0), HTML(value='')))"
      ]
     },
     "metadata": {},
     "output_type": "display_data"
    },
    {
     "name": "stdout",
     "output_type": "stream",
     "text": [
      "\n"
     ]
    },
    {
     "data": {
      "application/vnd.jupyter.widget-view+json": {
       "model_id": "f6ca7f82fe0243fc871fa7b2516d219b",
       "version_major": 2,
       "version_minor": 0
      },
      "text/plain": [
       "HBox(children=(FloatProgress(value=0.0, max=19239.0), HTML(value='')))"
      ]
     },
     "metadata": {},
     "output_type": "display_data"
    },
    {
     "name": "stdout",
     "output_type": "stream",
     "text": [
      "\n"
     ]
    },
    {
     "data": {
      "application/vnd.jupyter.widget-view+json": {
       "model_id": "c1df49fc1f084267aa3487ceb54cf768",
       "version_major": 2,
       "version_minor": 0
      },
      "text/plain": [
       "HBox(children=(FloatProgress(value=0.0, max=19239.0), HTML(value='')))"
      ]
     },
     "metadata": {},
     "output_type": "display_data"
    },
    {
     "name": "stdout",
     "output_type": "stream",
     "text": [
      "\n"
     ]
    },
    {
     "data": {
      "application/vnd.jupyter.widget-view+json": {
       "model_id": "0aa68efd72634fc9b96d93b57a014ecb",
       "version_major": 2,
       "version_minor": 0
      },
      "text/plain": [
       "HBox(children=(FloatProgress(value=0.0, max=19239.0), HTML(value='')))"
      ]
     },
     "metadata": {},
     "output_type": "display_data"
    },
    {
     "name": "stdout",
     "output_type": "stream",
     "text": [
      "\n"
     ]
    },
    {
     "name": "stderr",
     "output_type": "stream",
     "text": [
      "/Users/rubenb/opt/anaconda3/lib/python3.7/site-packages/pandas/core/generic.py:5303: SettingWithCopyWarning:\n",
      "\n",
      "\n",
      "A value is trying to be set on a copy of a slice from a DataFrame.\n",
      "Try using .loc[row_indexer,col_indexer] = value instead\n",
      "\n",
      "See the caveats in the documentation: https://pandas.pydata.org/pandas-docs/stable/user_guide/indexing.html#returning-a-view-versus-a-copy\n",
      "\n"
     ]
    }
   ],
   "source": [
    "# Clean up the plays dataset based on the EDA notebook\n",
    "plays.yardlineSide = plays.yardlineSide.replace(np.NaN, 'Midfield')\n",
    "\n",
    "plays['offenseQB'] = 0\n",
    "plays['offenseRB'] = 0\n",
    "plays['offenseWR'] = 0\n",
    "plays['offenseTE'] = 0\n",
    "plays['offenseOL'] = 0\n",
    "plays['offenseDL'] = 0\n",
    "plays['offenseDB'] = 0\n",
    "plays['offenseP'] = 0\n",
    "plays['offenseLS'] = 0\n",
    "plays['offenseK'] = 0\n",
    "plays['offenseLB'] = 0\n",
    "\n",
    "for i in tqdm(range(0,len(plays))):\n",
    "    if str(plays.loc[i,'personnelO']) == 'nan':\n",
    "        plays.loc[i,'offenseRB'] = np.nan\n",
    "        plays.loc[i,'offenseWR'] = np.nan\n",
    "        plays.loc[i,'offenseTE'] = np.nan\n",
    "        plays.loc[i,'offenseQB'] = np.nan\n",
    "        plays.loc[i,'offenseOL'] = np.nan\n",
    "        plays.loc[i,'offenseDL'] = np.nan\n",
    "        plays.loc[i,'offenseDB'] = np.nan\n",
    "        plays.loc[i,'offenseP'] = np.nan\n",
    "        plays.loc[i,'offenseLS'] = np.nan\n",
    "        plays.loc[i,'offenseK'] = np.nan\n",
    "        plays.loc[i,'offenseLB'] = np.nan\n",
    "        continue\n",
    "    personnelO_split = plays.personnelO.loc[i].split(\",\")\n",
    "    personnelO_split = [x.strip(' ') for x in personnelO_split]\n",
    "    for j in personnelO_split:\n",
    "        if \"RB\" in j:\n",
    "            plays.loc[i,'offenseRB'] = int(j[0])\n",
    "        if \"WR\" in j:\n",
    "            plays.loc[i,'offenseWR'] = int(j[0])\n",
    "        if \"TE\" in j:\n",
    "            plays.loc[i,'offenseTE'] = int(j[0])\n",
    "        if \"QB\" in j:\n",
    "            plays.loc[i,'offenseQB'] = int(j[0])\n",
    "        if \"OL\" in j:\n",
    "            plays.loc[i,'offenseOL'] = int(j[0])\n",
    "        if \"DL\" in j:\n",
    "            plays.loc[i,'offenseDL'] = int(j[0])\n",
    "        if \"DB\" in j:\n",
    "            plays.loc[i,'offenseDB'] = int(j[0])\n",
    "        if \"P\" in j:\n",
    "            plays.loc[i,'offenseP'] = int(j[0])\n",
    "        if \"LS\" in j:\n",
    "            plays.loc[i,'offenseLS'] = int(j[0])\n",
    "        if \"K\" in j:\n",
    "            plays.loc[i,'offenseK'] = int(j[0])\n",
    "        if \"LB\" in j:\n",
    "            plays.loc[i,'offenseLB'] = int(j[0])\n",
    "positions = ['offenseRB', 'offenseWR', 'offenseTE', 'offenseQB', 'offenseOL', 'offenseDL',\n",
    "            'offenseDB', 'offenseP', 'offenseLS', 'offenseK', 'offenseLB']\n",
    "plays['positions_summed'] = plays[positions].sum(axis=1)\n",
    "for i in tqdm(range(0,len(plays))):\n",
    "    if str(plays.loc[i,'personnelO']) == 'nan':\n",
    "        continue\n",
    "    if ((\"QB\" not in plays.personnelO.loc[i]) & (plays.positions_summed.loc[i] < 11) &\n",
    "       (\"K\" not in plays.personnelO.loc[i]) & (\"P\" not in plays.personnelO.loc[i])):\n",
    "        plays.loc[i,'offenseQB'] = 1\n",
    "plays['positions_summed'] = plays[positions].sum(axis=1)\n",
    "for i in tqdm(range(0,len(plays))):\n",
    "    if str(plays.loc[i,'personnelO']) == 'nan':\n",
    "        continue\n",
    "    if ((\"OL\" not in plays.personnelO.loc[i]) & (plays.positions_summed.loc[i] < 11)):\n",
    "        plays.loc[i,'offenseOL'] = 11 - plays.loc[i,'positions_summed']\n",
    "plays.drop('positions_summed', axis = 1, inplace = True)   \n",
    "        \n",
    "plays['defenseDL'] = 0\n",
    "plays['defenseLB'] = 0\n",
    "plays['defenseDB'] = 0\n",
    "plays['defenseWR'] = 0\n",
    "plays['defenseOL'] = 0\n",
    "plays['defenseTE'] = 0\n",
    "plays['defenseRB'] = 0\n",
    "plays['defenseQB'] = 0\n",
    "for i in tqdm(range(0,len(plays))):\n",
    "    if str(plays.personnelD.loc[i]) == 'nan':\n",
    "        plays.loc[i,'defenseDL'] = np.nan\n",
    "        plays.loc[i,'defenseLB'] = np.nan\n",
    "        plays.loc[i,'defenseDB'] = np.nan\n",
    "        plays.loc[i,'defenseWR'] = np.nan\n",
    "        plays.loc[i,'defenseOL'] = np.nan\n",
    "        plays.loc[i,'defenseTE'] = np.nan\n",
    "        plays.loc[i,'defenseRB'] = np.nan\n",
    "        plays.loc[i,'defenseQB'] = np.nan\n",
    "        continue\n",
    "    personnelD_split = plays.personnelD.loc[i].split(\",\")\n",
    "    personnelD_split = [x.strip(' ') for x in personnelD_split]\n",
    "    for j in personnelD_split:\n",
    "        if \"DL\" in j:\n",
    "            plays.loc[i,'defenseDL'] = float(j[0])\n",
    "        if \"LB\" in j:\n",
    "            plays.loc[i,'defenseLB'] = float(j[0])\n",
    "        if \"DB\" in j:\n",
    "            plays.loc[i,'defenseDB'] = float(j[0])\n",
    "        if \"WR\" in j:\n",
    "            plays.loc[i,'defenseWR'] = float(j[0])\n",
    "        if \"OL\" in j:\n",
    "            plays.loc[i,'defenseOL'] = float(j[0])\n",
    "        if \"TE\" in j:\n",
    "            plays.loc[i,'defenseTE'] = float(j[0])\n",
    "        if \"RB\" in j:\n",
    "            plays.loc[i,'defenseRB'] = float(j[0])\n",
    "        if \"QB\" in j:\n",
    "            plays.loc[i,'defenseQB'] = float(j[0])\n",
    "      \n",
    "plays['gameClock_minutes'] = plays.gameClock.str.split(\":\").str[0].astype(float)\n",
    "plays['gameClock_seconds'] = plays.gameClock.str.split(\":\").str[1].astype(float)\n",
    "plays['secondsInQuarter'] = plays.gameClock_minutes * 60 + plays.gameClock_seconds\n",
    "plays.drop(['gameClock_minutes', 'gameClock_seconds'], axis = 1, inplace = True)\n",
    "\n",
    "plays['quarter_reversed'] = (plays.quarter - 4) * (-1)\n",
    "plays['secondsInGame'] = plays.quarter_reversed * 900 + plays.secondsInQuarter\n",
    "plays[plays['secondsInGame'] < 0].secondsInGame = np.NaN\n",
    "plays.drop('quarter_reversed', axis = 1, inplace = True)\n",
    "\n",
    "plays.absoluteYardlineNumber = plays.absoluteYardlineNumber - 10\n",
    "\n",
    "\n",
    "penalties = plays.penaltyCodes.str.split(\";\", expand=True).stack().str.get_dummies().sum(level=0)\n",
    "penalties = penalties[['DPI','OPI','ICT','DH']].copy()\n",
    "plays = plays.join(penalties)\n",
    "plays[['DPI','OPI','ICT','DH']] = plays[['DPI','OPI','ICT','DH']].fillna(0)\n",
    "plays.ICT = plays.ICT.astype(str).replace(\"2.0\",\"1.0\").astype(float)\n",
    "plays.DH = plays.DH.astype(str).replace(\"2.0\",\"1.0\").astype(float)\n",
    "plays.drop('penaltyCodes', axis = 1, inplace = True)\n",
    "\n",
    "plays.drop('penaltyJerseyNumbers', axis = 1, inplace = True)\n",
    "\n",
    "plays = plays[plays['passResult'] != 'R'].reset_index(drop=True)\n",
    "\n",
    "plays['uniquePlay'] = plays['gameId'].astype(str) + '_' + plays['playId'].astype(str)"
   ]
  },
  {
   "cell_type": "code",
   "execution_count": 6,
   "metadata": {},
   "outputs": [
    {
     "data": {
      "application/vnd.jupyter.widget-view+json": {
       "model_id": "d311c1220e5e4f68b2a514afb4f08ef0",
       "version_major": 2,
       "version_minor": 0
      },
      "text/plain": [
       "HBox(children=(FloatProgress(value=0.0, max=181.0), HTML(value='')))"
      ]
     },
     "metadata": {},
     "output_type": "display_data"
    },
    {
     "name": "stdout",
     "output_type": "stream",
     "text": [
      "\n"
     ]
    },
    {
     "name": "stderr",
     "output_type": "stream",
     "text": [
      "/Users/rubenb/opt/anaconda3/lib/python3.7/site-packages/ipykernel_launcher.py:82: SettingWithCopyWarning:\n",
      "\n",
      "\n",
      "A value is trying to be set on a copy of a slice from a DataFrame.\n",
      "Try using .loc[row_indexer,col_indexer] = value instead\n",
      "\n",
      "See the caveats in the documentation: https://pandas.pydata.org/pandas-docs/stable/user_guide/indexing.html#returning-a-view-versus-a-copy\n",
      "\n",
      "/Users/rubenb/opt/anaconda3/lib/python3.7/site-packages/pandas/core/generic.py:5303: SettingWithCopyWarning:\n",
      "\n",
      "\n",
      "A value is trying to be set on a copy of a slice from a DataFrame.\n",
      "Try using .loc[row_indexer,col_indexer] = value instead\n",
      "\n",
      "See the caveats in the documentation: https://pandas.pydata.org/pandas-docs/stable/user_guide/indexing.html#returning-a-view-versus-a-copy\n",
      "\n"
     ]
    }
   ],
   "source": [
    "# Clean tracking dataset based on the EDA notebook\n",
    "tracking.time = pd.to_datetime(tracking.time, format = '%Y-%m-%dT%H:%M:%S.%f')\n",
    "\n",
    "tracking = tracking.drop(tracking[(tracking['gameId'] == 2018102101) & (tracking['playId'] == 3078)].index)\n",
    "plays = plays.drop(plays[(plays['gameId'] == 2018102101) & (plays['playId'] == 3078)].index)\n",
    "\n",
    "tracking['s'].at[18040204] = 2.74\n",
    "\n",
    "tracking = tracking.drop(tracking[(tracking['gameId'] == 2018091602) & (tracking['playId'] == 3122)].index)\n",
    "plays = plays.drop(plays[(plays['gameId'] == 2018091602) & (plays['playId'] == 3122)].index)\n",
    "\n",
    "tracking.a.at[18040204] = 2.43\n",
    "\n",
    "tracking.drop('jerseyNumber', axis = 1, inplace = True)\n",
    "\n",
    "tracking['consPosition'] = tracking.position\n",
    "tracking.consPosition = tracking.consPosition.replace('OLB','LB')\n",
    "tracking.consPosition = tracking.consPosition.replace('ILB','LB')\n",
    "tracking.consPosition = tracking.consPosition.replace('MLB','LB')\n",
    "tracking.consPosition = tracking.consPosition.replace('FS','S')\n",
    "tracking.consPosition = tracking.consPosition.replace('SS','S')\n",
    "tracking.consPosition = tracking.consPosition.replace('LS','S')\n",
    "tracking.consPosition = tracking.consPosition.replace('HB','RB')\n",
    "tracking.consPosition = tracking.consPosition.replace('NT','DT')\n",
    "tracking.consPosition = tracking.consPosition.replace('DB','CB')\n",
    "tracking.drop('position', axis = 1, inplace = True)\n",
    "\n",
    "tracking['uniqueFrame'] = tracking['gameId'].astype(str) + '_' + tracking['playId'].astype(str) + '_' + tracking['frameId'].astype(str)\n",
    "tracking['uniquePlay'] = tracking['gameId'].astype(str) + '_' + tracking['playId'].astype(str)\n",
    "\n",
    "trick_events = ['qb_spike', 'punt_fake', 'field_goal_fake', 'field_goal_blocked', 'field_goal_play']\n",
    "plays_to_remove = tracking[tracking['event'].isin(trick_events)].uniquePlay.unique()\n",
    "tracking = tracking[~tracking['uniquePlay'].isin(plays_to_remove)]\n",
    "plays = plays[~plays['uniquePlay'].isin(plays_to_remove)]\n",
    "\n",
    "multi_event_frames = tracking[['uniqueFrame','event']].groupby(by = 'uniqueFrame').nunique()\n",
    "multi_event_frames = multi_event_frames[multi_event_frames['event'] > 1]\n",
    "multi_event_frames = list(multi_event_frames.index)\n",
    "multi_event_frames_count = tracking[tracking['uniqueFrame'].isin(multi_event_frames)][['uniquePlay','uniqueFrame','event','time']].groupby(by = ['uniquePlay','uniqueFrame','event']).count()\n",
    "multi_event_plays = list(multi_event_frames_count.index.unique(level = 'uniquePlay'))\n",
    "tracking = tracking[~tracking['uniquePlay'].isin(multi_event_plays)]\n",
    "plays = plays[~plays['uniquePlay'].isin(multi_event_plays)]\n",
    "\n",
    "time_values_check = tracking.groupby(by = ['gameId', 'uniquePlay', 'uniqueFrame', 'frameId']).agg({'time': ['min','max']}).reset_index()\n",
    "time_values_check.columns = [' '.join(col).strip() for col in time_values_check.columns.values]\n",
    "time_values_check['differential'] = time_values_check['time max'] - time_values_check['time min']\n",
    "time_values_check['differential'] = time_values_check['differential'].astype('timedelta64[s]')\n",
    "plays_to_validate = time_values_check[time_values_check['differential'] > 0].reset_index(drop = True)\n",
    "events = ['pass_arrived', 'pass_outcome_caught', 'tackle', 'pass_outcome_incomplete', 'out_of_bounds', 'qb_sack',\n",
    "          'touchdown', 'pass_outcome_touchdown', 'pass_outcome_interception', 'fumble', 'qb_strip_sack',\n",
    "          'fumble_defense_recovered', 'fumble_offense_recovered', 'qb_spike']\n",
    "plays_to_remove = []\n",
    "frames_to_remove = []\n",
    "for i in tqdm(plays_to_validate.uniquePlay.unique()):\n",
    "    smallest_frame = plays_to_validate[plays_to_validate['uniquePlay'] == str(i)].frameId.min()\n",
    "    largest_frame = plays_to_validate[plays_to_validate['uniquePlay'] == str(i)].frameId.max()\n",
    "    play_data = tracking[tracking['uniquePlay'] == str(i)]\n",
    "    largest_overall_frame = play_data.frameId.max()\n",
    "    if largest_frame < largest_overall_frame:\n",
    "        plays_to_remove.append(play_data.uniquePlay.iloc[0])\n",
    "    else:\n",
    "        problem_frames = play_data[play_data['frameId'] >= smallest_frame]\n",
    "        \n",
    "        if problem_frames.event.isin(events).any():\n",
    "            plays_to_remove.append(problem_frames.uniquePlay.iloc[0])\n",
    "        else:\n",
    "            for j in problem_frames.uniqueFrame.unique():\n",
    "                frames_to_remove.append(j)\n",
    "tracking = tracking[~tracking['uniqueFrame'].isin(frames_to_remove)]\n",
    "tracking = tracking[~tracking['uniquePlay'].isin(plays_to_remove)]\n",
    "plays = plays[~plays['uniquePlay'].isin(plays_to_remove)]\n",
    "\n",
    "time_diffs = tracking[['time', 'gameId', 'playId', 'frameId']].drop_duplicates().reset_index(drop = True)\n",
    "time_diffs['time_diff'] = time_diffs['time'].diff()\n",
    "time_diffs['time_diff'] = time_diffs['time_diff'].dt.total_seconds()\n",
    "time_diffs['time_diff'] = np.where((time_diffs.gameId != time_diffs.gameId.shift(1)) |\n",
    "                                   (time_diffs.playId != time_diffs.playId.shift(1)),\n",
    "                                  np.NaN, time_diffs.time_diff)\n",
    "time_diffs.drop('time', axis = 1, inplace = True)\n",
    "problem_data = time_diffs[(time_diffs['time_diff'] < 0.08) |\n",
    "                          (time_diffs['time_diff'] > 0.12)]\n",
    "problem_data['uniquePlay'] = problem_data['gameId'].astype(str) + '_' + problem_data['playId'].astype(str)\n",
    "problem_data.groupby(by = 'uniquePlay').count()\n",
    "plays_to_remove = list(problem_data.uniquePlay.unique())\n",
    "tracking = tracking[~tracking['uniquePlay'].isin(plays_to_remove)]\n",
    "plays = plays[~plays['uniquePlay'].isin(plays_to_remove)]\n",
    "tracking[tracking['frameId'] == 1].dis = np.NaN\n",
    "\n",
    "tracking.drop_duplicates(inplace = True)\n",
    "\n",
    "tracking = tracking.merge(games[['gameId','homeTeamAbbr','visitorTeamAbbr']],how = 'left',on = 'gameId')\n",
    "tracking = tracking.merge(plays[['gameId','playId','absoluteYardlineNumber','possessionTeam']],how = 'left',on = ['gameId','playId'])\n",
    "tracking['side'] = np.NaN\n",
    "tracking['side'] = np.where(tracking['team'] == 'football','football',tracking['side'])\n",
    "tracking['side'] = np.where((tracking['team'] == 'home') & (tracking['homeTeamAbbr'] == tracking['possessionTeam']),'offense',tracking['side'])\n",
    "tracking['side'] = np.where((tracking['team'] == 'home') & (tracking['visitorTeamAbbr'] == tracking['possessionTeam']),'defense',tracking['side'])\n",
    "tracking['side'] = np.where((tracking['team'] == 'away') & (tracking['homeTeamAbbr'] == tracking['possessionTeam']),'defense',tracking['side'])\n",
    "tracking['side'] = np.where((tracking['team'] == 'away') & (tracking['visitorTeamAbbr'] == tracking['possessionTeam']),'offense',tracking['side'])"
   ]
  },
  {
   "cell_type": "code",
   "execution_count": 7,
   "metadata": {},
   "outputs": [],
   "source": [
    "# Function to plot data labels to scatterplots\n",
    "def set_labels(x, y, val, ax):\n",
    "    a = pd.concat({'x': x, 'y': y, 'val': val}, axis=1)\n",
    "    for i, point in a.iterrows():\n",
    "        ax.text(point['x']+.3, point['y']+.3, str(point['val']))"
   ]
  },
  {
   "cell_type": "code",
   "execution_count": 8,
   "metadata": {},
   "outputs": [],
   "source": [
    "# Function to plot positions at a particular event on the field\n",
    "# Valid event choices are: snap; pass; pass_arrived; pass_caught; tackle; contact; pass_cinomplete; play_action;\n",
    "# out_of_bounds; line_set; sack; first; last\n",
    "\n",
    "def plot_event_positions(event, gameId = 2018090600, playId = 75):\n",
    "    # Set the event labels\n",
    "    event_labels = {'snap':'ball_snap', 'pass':'pass_forward', 'pass_arrived':'pass_arrived',\n",
    "                'pass_caught':'pass_outcome_caught', 'tackle':'tackle', 'contact':'first_contact',\n",
    "                'pass_incomplete':'pass_outcome_incomplete', 'play_action':'play_action',\n",
    "                'out_of_bounds':'out_of_bounds', 'line_set':'line_set', 'sack':'qb_sack'\n",
    "                }\n",
    "    \n",
    "    # First we filter out the necessary data\n",
    "    # We start by filtering out the relevant game and play data\n",
    "    example_play = tracking[(tracking['gameId'] == gameId) & \n",
    "                            (tracking['playId'] == playId)]\n",
    "    # Then we filter out the correct event\n",
    "    if event == 'first':\n",
    "        example_play = example_play[example_play['frameId'] == 1]\n",
    "    elif event == 'last':\n",
    "        example_play = example_play[example_play['frameId'] == max(example_play['frameId'])]\n",
    "    elif event in event_labels.keys():\n",
    "        if event_labels[event] in list(example_play.event):\n",
    "            example_play = example_play[example_play['event'] == event_labels[event]]\n",
    "        else:\n",
    "            return(print('The selected event does not occur in the selected play'))\n",
    "    else:\n",
    "        return(print('The selected event is not valid'))\n",
    "    example_play.reset_index(drop=True, inplace = True)\n",
    "    \n",
    "    # Set the line of scrimmage\n",
    "    LOS = example_play.absoluteYardlineNumber[0] + 10\n",
    "    \n",
    "    # Next we use seaborn to create a scatterplot of the data\n",
    "    fig, ax = plt.subplots(figsize = (14.4, 6.4))\n",
    "    g = sns.scatterplot(data = example_play\n",
    "                       , x = 'x', y = 'y'\n",
    "                       , hue = 'side' # Do we need this if we also set style?\n",
    "                       , s = 200\n",
    "                       , style = 'side'\n",
    "                       , markers = {'offense': 'X', 'defense':'o', 'football':'D'}\n",
    "                       )\n",
    "    plt.axvline(x = LOS, lw = 4, c = 'red')\n",
    "    # Set the size of the plot to include the full football field\n",
    "    g.set(xlim=(0,120))\n",
    "    g.set(ylim=(0,53.3))\n",
    "    \n",
    "    # Use our custom set_labels function to assign labels to the markers\n",
    "    set_labels(example_play.x, example_play.y, example_play.consPosition, plt.gca())\n",
    "    \n",
    "    # Add the picture of the football field to the background\n",
    "    ### NOTE: THE ASSIGNMENT REQUIRES THAT NO EXTERNAL DATA IS ADDED, SO THIS WILL NEED\n",
    "    ### TO BE REPLACED BY A WAY OF SHOWING THE FOOTBALL FIELD WITHOUT AN IMPORTED IMAGE\n",
    "    with open('../Resources/football_field.png', 'rb') as file:\n",
    "        img = plt.imread(file, 'PNG')\n",
    "    plt.imshow(img, zorder = 0, extent = [0.0, 120.0, 0.00, 53.3])"
   ]
  },
  {
   "cell_type": "code",
   "execution_count": 9,
   "metadata": {},
   "outputs": [],
   "source": [
    "# Function to plot routes on the field\n",
    "def plot_routes(gameId = 2018090600, playId = 75):\n",
    "    # First we filter out the necessary data\n",
    "    # This means getting the data for the game and play\n",
    "    example_play = tracking[(tracking['gameId'] == gameId) &\n",
    "                            (tracking['playId'] == playId)\n",
    "                           ]\n",
    "    example_play.reset_index(drop = True, inplace = True)\n",
    "    \n",
    "    # Set the line of scrimmage\n",
    "    LOS = example_play.absoluteYardlineNumber[0] + 10\n",
    "    \n",
    "    # Next we use plotly to create a scatterplot for the data where each player and ball is traced.\n",
    "    # Initiate the plotting\n",
    "    fig = go.Figure()\n",
    "    \n",
    "    # Add the offense players traces\n",
    "    for i in pd.unique(example_play[example_play['side'] == 'offense'].nflId):\n",
    "        fig.add_trace(go.Scatter(x = example_play[example_play['nflId'] == i].x\n",
    "                                , y = example_play[example_play['nflId'] == i].y\n",
    "                                , name = example_play[example_play['nflId'] == i].displayName.iloc[0]\n",
    "                                , mode = 'lines+markers'\n",
    "                                , marker_color = 'rgba(83, 51, 237, 1)'\n",
    "                                )\n",
    "                     )\n",
    "        \n",
    "    # Add the defensive players traces\n",
    "    for i in pd.unique(example_play[example_play['side'] == 'defense'].nflId):\n",
    "        fig.add_trace(go.Scatter(x = example_play[example_play['nflId'] == i].x\n",
    "                                , y = example_play[example_play['nflId'] == i].y\n",
    "                                , name = example_play[example_play['nflId'] == i].displayName.iloc[0]\n",
    "                                , mode = 'lines+markers'\n",
    "                                , marker_color = 'rgba(242, 38, 19, 1)'\n",
    "                                )\n",
    "                     )\n",
    "        \n",
    "    # Add the football trace\n",
    "    fig.add_trace(go.Scatter(x = example_play[example_play['nflId'].isnull()].x\n",
    "                            , y = example_play[example_play['nflId'].isnull()].y\n",
    "                            , name = 'football'\n",
    "                            , mode = 'lines+markers'\n",
    "                            , marker_color = 'rgba(240, 255, 0, 1)'\n",
    "                            )\n",
    "                 )\n",
    "    \n",
    "    # Add the line of scrimmage\n",
    "    fig.add_trace(go.Scatter(x = [LOS, LOS]\n",
    "                            , y = [0, 53.3]\n",
    "                            , name = 'line of scrimmage'\n",
    "                            , mode = 'lines'\n",
    "                            , line = dict(\n",
    "                                color = 'rgba(255, 0, 0, 1)'\n",
    "                                , width = 4\n",
    "                                )\n",
    "                            )\n",
    "                 )\n",
    "    \n",
    "    # Set the axes of the plot to include the full football field\n",
    "    fig.update_xaxes(range = [0, 120])\n",
    "    fig.update_yaxes(range = [0, 53.3])\n",
    "    \n",
    "    # Add the background image of a football field\n",
    "    ### NOTE: THE ASSIGNMENT REQUIRES THAT NO EXTERNAL DATA IS ADDED, SO THIS WILL NEED\n",
    "    ### TO BE REPLACED BY A WAY OF SHOWING THE FOOTBALL FIELD WITHOUT AN IMPORTED IMAGE\n",
    "    fig.add_layout_image(\n",
    "        dict(\n",
    "            source=\"../Resources/football_field.png\"\n",
    "            , xref=\"x\"\n",
    "            , yref=\"y\"\n",
    "            , x=0\n",
    "            , y=53.3\n",
    "            , sizex=120\n",
    "            , sizey=53.3\n",
    "            , sizing=\"stretch\"\n",
    "            , opacity=0.8\n",
    "            , layer=\"below\"\n",
    "        )\n",
    "    )\n",
    "    \n",
    "    # Show the plot\n",
    "    fig.show()"
   ]
  },
  {
   "cell_type": "code",
   "execution_count": null,
   "metadata": {},
   "outputs": [],
   "source": []
  },
  {
   "cell_type": "code",
   "execution_count": null,
   "metadata": {},
   "outputs": [],
   "source": []
  },
  {
   "cell_type": "code",
   "execution_count": null,
   "metadata": {},
   "outputs": [],
   "source": []
  },
  {
   "cell_type": "code",
   "execution_count": null,
   "metadata": {},
   "outputs": [],
   "source": []
  },
  {
   "cell_type": "code",
   "execution_count": null,
   "metadata": {},
   "outputs": [],
   "source": []
  },
  {
   "cell_type": "code",
   "execution_count": null,
   "metadata": {},
   "outputs": [],
   "source": []
  },
  {
   "cell_type": "code",
   "execution_count": null,
   "metadata": {},
   "outputs": [],
   "source": []
  }
 ],
 "metadata": {
  "kernelspec": {
   "display_name": "Python 3",
   "language": "python",
   "name": "python3"
  },
  "language_info": {
   "codemirror_mode": {
    "name": "ipython",
    "version": 3
   },
   "file_extension": ".py",
   "mimetype": "text/x-python",
   "name": "python",
   "nbconvert_exporter": "python",
   "pygments_lexer": "ipython3",
   "version": "3.7.6"
  }
 },
 "nbformat": 4,
 "nbformat_minor": 4
}
