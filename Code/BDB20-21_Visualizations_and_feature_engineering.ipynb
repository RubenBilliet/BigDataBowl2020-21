{
 "cells": [
  {
   "cell_type": "markdown",
   "metadata": {},
   "source": [
    "# NFL BIG DATA BOWL 2020 - 2021\n",
    "\n",
    "# 0. Introduction\n",
    "In this notebook we continue on from the 'BDB20-21_EDA_and_cleanup' notebook, which performs the Exploratory Data Analysis, and does some basic data wrangling on this data.  \n",
    "This notebook focuses on some data visualizations to gain a better understanding on the data, and does some more elaborate feature engineering to create new data points in preparation for a machine learning algorithm"
   ]
  },
  {
   "cell_type": "markdown",
   "metadata": {},
   "source": [
    "# 1. Notebook preparation\n",
    "In this section of the notebook we load in all the necessary libraries, we read in the data and perform the data wrangling actions as found necessary in the BDB20-21_EDA_and_cleanup notebook."
   ]
  },
  {
   "cell_type": "code",
   "execution_count": 1,
   "metadata": {},
   "outputs": [
    {
     "data": {
      "text/html": [
       "        <script type=\"text/javascript\">\n",
       "        window.PlotlyConfig = {MathJaxConfig: 'local'};\n",
       "        if (window.MathJax) {MathJax.Hub.Config({SVG: {font: \"STIX-Web\"}});}\n",
       "        if (typeof require !== 'undefined') {\n",
       "        require.undef(\"plotly\");\n",
       "        requirejs.config({\n",
       "            paths: {\n",
       "                'plotly': ['https://cdn.plot.ly/plotly-latest.min']\n",
       "            }\n",
       "        });\n",
       "        require(['plotly'], function(Plotly) {\n",
       "            window._Plotly = Plotly;\n",
       "        });\n",
       "        }\n",
       "        </script>\n",
       "        "
      ]
     },
     "metadata": {},
     "output_type": "display_data"
    }
   ],
   "source": [
    "# Load libraries\n",
    "import pandas as pd\n",
    "import numpy as np\n",
    "import matplotlib.pyplot as plt\n",
    "import seaborn as sns\n",
    "sns.set(palette = 'deep')\n",
    "import datetime as dt\n",
    "import time\n",
    "from datetime import date\n",
    "from tqdm.notebook import tqdm\n",
    "import math\n",
    "import cv2\n",
    "import plotly as py\n",
    "import plotly.express as px\n",
    "import plotly.graph_objs as go\n",
    "import ipywidgets as widgets\n",
    "py.offline.init_notebook_mode(connected=True)"
   ]
  },
  {
   "cell_type": "code",
   "execution_count": 2,
   "metadata": {},
   "outputs": [
    {
     "data": {
      "application/vnd.jupyter.widget-view+json": {
       "model_id": "6c5e365f636040c88cec12fa49db94ae",
       "version_major": 2,
       "version_minor": 0
      },
      "text/plain": [
       "HBox(children=(FloatProgress(value=0.0, max=17.0), HTML(value='')))"
      ]
     },
     "metadata": {},
     "output_type": "display_data"
    },
    {
     "name": "stdout",
     "output_type": "stream",
     "text": [
      "\n"
     ]
    }
   ],
   "source": [
    "# Load the data\n",
    "# Import the data contained in individual files\n",
    "games = pd.read_csv(\"../Data/games.csv\")\n",
    "players = pd.read_csv(\"../Data/players.csv\")\n",
    "plays = pd.read_csv(\"../Data/plays.csv\")\n",
    "\n",
    "# Import the weekly tracking data\n",
    "weeks = range(1,18)\n",
    "tracking = pd.DataFrame()\n",
    "for i in tqdm(weeks):\n",
    "    week_data = pd.read_csv('../Data/week' + str(i) + '.csv')\n",
    "    week_data['week'] = i\n",
    "    tracking = tracking.append(week_data)"
   ]
  },
  {
   "cell_type": "code",
   "execution_count": 3,
   "metadata": {},
   "outputs": [],
   "source": [
    "# Clean up the games dataset\n",
    "def clean_games_data(games):\n",
    "    games['gameDateTime'] = games.gameDate + \" - \" + games.gameTimeEastern\n",
    "    games.gameDateTime = pd.to_datetime(games.gameDateTime, format = '%m/%d/%Y - %H:%M:%S')\n",
    "    games['gameMonth'] = games.gameDateTime.dt.month_name()\n",
    "    games['gameWeekDay'] = games.gameDateTime.dt.day_name()\n",
    "    games['gameHour'] = games.gameDateTime.dt.hour\n",
    "    games['gameTimeSlot'] = np.NaN\n",
    "    games.loc[games.gameHour < 12, 'gameTimeSlot'] = 'Morning'\n",
    "    games.loc[(games.gameHour >=12) & (games.gameHour < 15), 'gameTimeSlot'] = 'Noon'\n",
    "    games.loc[(games.gameHour >=15) & (games.gameHour < 18), 'gameTimeSlot'] = 'Afternoon'\n",
    "    games.loc[games.gameHour >=18, 'gameTimeSlot'] = 'Evening'\n",
    "    games.drop(['gameHour', 'gameDate', 'gameTimeEastern'], axis = 1, inplace = True)\n",
    "    games['week'] = games.week.astype(str)\n",
    "    \n",
    "games = clean_games_data(games)"
   ]
  },
  {
   "cell_type": "code",
   "execution_count": 4,
   "metadata": {},
   "outputs": [],
   "source": [
    "# Clean up the players dataset\n",
    "def clean_players_data(players):\n",
    "    players['nflId'] = players.nflId.astype(str)\n",
    "    players.height = np.where(players.height.str.contains(\"-\"), players.height, \"0-\" + players.height)\n",
    "    players.height = (players.height.str.split(\"-\").str[0].astype(int) *12) + players.height.str.split(\"-\").str[-1].astype(int)\n",
    "    players['birthDate'] = pd.to_datetime(players.birthDate)\n",
    "    players['age'] = ((pd.to_datetime(\"09/01/2018\", format = \"%m/%d/%Y\") - \n",
    "                       players.birthDate).dt.days/365.25).apply(np.floor).astype(int)\n",
    "    \n",
    "    players['consPosition'] = players.position\n",
    "    players.consPosition = players.consPosition.replace('OLB','LB')\n",
    "    players.consPosition = players.consPosition.replace('ILB','LB')\n",
    "    players.consPosition = players.consPosition.replace('MLB','LB')\n",
    "    players.consPosition = players.consPosition.replace('FS','S')\n",
    "    players.consPosition = players.consPosition.replace('SS','S')\n",
    "    players.consPosition = players.consPosition.replace('LS','S')\n",
    "    players.consPosition = players.consPosition.replace('HB','RB')\n",
    "    players.consPosition = players.consPosition.replace('NT','DT')\n",
    "    players.consPosition = players.consPosition.replace('DB','CB')\n",
    "    \n",
    "players = clean_players_data(players)"
   ]
  },
  {
   "cell_type": "code",
   "execution_count": 5,
   "metadata": {},
   "outputs": [
    {
     "data": {
      "application/vnd.jupyter.widget-view+json": {
       "model_id": "d37175389ec74b5282447fb80394018b",
       "version_major": 2,
       "version_minor": 0
      },
      "text/plain": [
       "HBox(children=(FloatProgress(value=0.0, max=19239.0), HTML(value='')))"
      ]
     },
     "metadata": {},
     "output_type": "display_data"
    },
    {
     "name": "stdout",
     "output_type": "stream",
     "text": [
      "\n"
     ]
    },
    {
     "data": {
      "application/vnd.jupyter.widget-view+json": {
       "model_id": "67c1298f0a984674ad3d5a58082c2df5",
       "version_major": 2,
       "version_minor": 0
      },
      "text/plain": [
       "HBox(children=(FloatProgress(value=0.0, max=19239.0), HTML(value='')))"
      ]
     },
     "metadata": {},
     "output_type": "display_data"
    },
    {
     "name": "stdout",
     "output_type": "stream",
     "text": [
      "\n"
     ]
    },
    {
     "data": {
      "application/vnd.jupyter.widget-view+json": {
       "model_id": "ae70246625ad4e7b81a7b41299d28f51",
       "version_major": 2,
       "version_minor": 0
      },
      "text/plain": [
       "HBox(children=(FloatProgress(value=0.0, max=19239.0), HTML(value='')))"
      ]
     },
     "metadata": {},
     "output_type": "display_data"
    },
    {
     "name": "stdout",
     "output_type": "stream",
     "text": [
      "\n"
     ]
    },
    {
     "data": {
      "application/vnd.jupyter.widget-view+json": {
       "model_id": "754f127b05ed4d44b7a582b3744ac26c",
       "version_major": 2,
       "version_minor": 0
      },
      "text/plain": [
       "HBox(children=(FloatProgress(value=0.0, max=19239.0), HTML(value='')))"
      ]
     },
     "metadata": {},
     "output_type": "display_data"
    },
    {
     "name": "stdout",
     "output_type": "stream",
     "text": [
      "\n"
     ]
    }
   ],
   "source": [
    "# Clean up the plays dataset\n",
    "def clean_plays_data(plays):\n",
    "    ###### Replace NaN for 'Midfield' on the yardlineSide variable ######\n",
    "    plays.yardlineSide = plays.yardlineSide.replace(np.NaN, 'Midfield')\n",
    "    \n",
    "    ###### Count the number of players per position on offense for each play ######\n",
    "    # First we initiate a variable set to 0 for all positions that occur in the personnelO variable\n",
    "    plays['offenseQB'] = 0\n",
    "    plays['offenseRB'] = 0\n",
    "    plays['offenseWR'] = 0\n",
    "    plays['offenseTE'] = 0\n",
    "    plays['offenseOL'] = 0\n",
    "    plays['offenseDL'] = 0\n",
    "    plays['offenseDB'] = 0\n",
    "    plays['offenseP'] = 0\n",
    "    plays['offenseLS'] = 0\n",
    "    plays['offenseK'] = 0\n",
    "    plays['offenseLB'] = 0\n",
    "\n",
    "    # Next we complete the columns we can based on the given input from the personnelO variable\n",
    "    for i in tqdm(range(0,len(plays))):\n",
    "        if str(plays.loc[i,'personnelO']) == 'nan':\n",
    "            plays.loc[i,'offenseRB'] = np.nan\n",
    "            plays.loc[i,'offenseWR'] = np.nan\n",
    "            plays.loc[i,'offenseTE'] = np.nan\n",
    "            plays.loc[i,'offenseQB'] = np.nan\n",
    "            plays.loc[i,'offenseOL'] = np.nan\n",
    "            plays.loc[i,'offenseDL'] = np.nan\n",
    "            plays.loc[i,'offenseDB'] = np.nan\n",
    "            plays.loc[i,'offenseP'] = np.nan\n",
    "            plays.loc[i,'offenseLS'] = np.nan\n",
    "            plays.loc[i,'offenseK'] = np.nan\n",
    "            plays.loc[i,'offenseLB'] = np.nan\n",
    "            continue\n",
    "        personnelO_split = plays.personnelO.loc[i].split(\",\")\n",
    "        personnelO_split = [x.strip(' ') for x in personnelO_split]\n",
    "        for j in personnelO_split:\n",
    "            if \"RB\" in j:\n",
    "                plays.loc[i,'offenseRB'] = int(j[0])\n",
    "            if \"WR\" in j:\n",
    "                plays.loc[i,'offenseWR'] = int(j[0])\n",
    "            if \"TE\" in j:\n",
    "                plays.loc[i,'offenseTE'] = int(j[0])\n",
    "            if \"QB\" in j:\n",
    "                plays.loc[i,'offenseQB'] = int(j[0])\n",
    "            if \"OL\" in j:\n",
    "                plays.loc[i,'offenseOL'] = int(j[0])\n",
    "            if \"DL\" in j:\n",
    "                plays.loc[i,'offenseDL'] = int(j[0])\n",
    "            if \"DB\" in j:\n",
    "                plays.loc[i,'offenseDB'] = int(j[0])\n",
    "            if \"P\" in j:\n",
    "                plays.loc[i,'offenseP'] = int(j[0])\n",
    "            if \"LS\" in j:\n",
    "                plays.loc[i,'offenseLS'] = int(j[0])\n",
    "            if \"K\" in j:\n",
    "                plays.loc[i,'offenseK'] = int(j[0])\n",
    "            if \"LB\" in j:\n",
    "                plays.loc[i,'offenseLB'] = int(j[0])\n",
    "                \n",
    "    # Now we need to complete the line-ups based on the assumptions we had set out.\n",
    "    # We can first sum the positional columns to see how many positions we're missing.\n",
    "    positions = ['offenseRB', 'offenseWR', 'offenseTE', 'offenseQB', 'offenseOL', 'offenseDL',\n",
    "                'offenseDB', 'offenseP', 'offenseLS', 'offenseK', 'offenseLB']\n",
    "    plays['positions_summed'] = plays[positions].sum(axis=1)\n",
    "\n",
    "    # Next we apply the first assumption: If we don't have 11 players yet and the QB position\n",
    "    # was not explicitly mentioned, we assume that there is 1 QB, except if there is a punter\n",
    "    # or a kicker on the field\n",
    "    for i in tqdm(range(0,len(plays))):\n",
    "        if str(plays.loc[i,'personnelO']) == 'nan':\n",
    "            continue\n",
    "        if ((\"QB\" not in plays.personnelO.loc[i]) & (plays.positions_summed.loc[i] < 11) &\n",
    "           (\"K\" not in plays.personnelO.loc[i]) & (\"P\" not in plays.personnelO.loc[i])):\n",
    "            plays.loc[i,'offenseQB'] = 1\n",
    "\n",
    "    # We can now recalculate the summed positions\n",
    "    plays['positions_summed'] = plays[positions].sum(axis=1)\n",
    "    \n",
    "    # We can now fill up the rest of the positions with offensive line man, unless\n",
    "    # we the number of OL is specified\n",
    "    for i in tqdm(range(0,len(plays))):\n",
    "        if str(plays.loc[i,'personnelO']) == 'nan':\n",
    "            continue\n",
    "        if ((\"OL\" not in plays.personnelO.loc[i]) & (plays.positions_summed.loc[i] < 11)):\n",
    "            plays.loc[i,'offenseOL'] = 11 - plays.loc[i,'positions_summed']\n",
    "\n",
    "    # We can now recalculate the summed positions\n",
    "    plays['positions_summed'] = plays[positions].sum(axis=1)\n",
    "    plays.drop('positions_summed', axis = 1, inplace = True)\n",
    "    \n",
    "    \n",
    "    ###### Count the defensive players per position on the play ######\n",
    "    plays['defenseDL'] = 0\n",
    "    plays['defenseLB'] = 0\n",
    "    plays['defenseDB'] = 0\n",
    "    plays['defenseWR'] = 0\n",
    "    plays['defenseOL'] = 0\n",
    "    plays['defenseTE'] = 0\n",
    "    plays['defenseRB'] = 0\n",
    "    plays['defenseQB'] = 0\n",
    "\n",
    "    # Next we complete the columns we can based on the given input from the personnelD variable\n",
    "    for i in tqdm(range(0,len(plays))):\n",
    "        if str(plays.personnelD.loc[i]) == 'nan':\n",
    "            plays.loc[i,'defenseDL'] = np.nan\n",
    "            plays.loc[i,'defenseLB'] = np.nan\n",
    "            plays.loc[i,'defenseDB'] = np.nan\n",
    "            plays.loc[i,'defenseWR'] = np.nan\n",
    "            plays.loc[i,'defenseOL'] = np.nan\n",
    "            plays.loc[i,'defenseTE'] = np.nan\n",
    "            plays.loc[i,'defenseRB'] = np.nan\n",
    "            plays.loc[i,'defenseQB'] = np.nan\n",
    "            continue\n",
    "        personnelD_split = plays.personnelD.loc[i].split(\",\")\n",
    "        personnelD_split = [x.strip(' ') for x in personnelD_split]\n",
    "        for j in personnelD_split:\n",
    "            if \"DL\" in j:\n",
    "                plays.loc[i,'defenseDL'] = float(j[0])\n",
    "            if \"LB\" in j:\n",
    "                plays.loc[i,'defenseLB'] = float(j[0])\n",
    "            if \"DB\" in j:\n",
    "                plays.loc[i,'defenseDB'] = float(j[0])\n",
    "            if \"WR\" in j:\n",
    "                plays.loc[i,'defenseWR'] = float(j[0])\n",
    "            if \"OL\" in j:\n",
    "                plays.loc[i,'defenseOL'] = float(j[0])\n",
    "            if \"TE\" in j:\n",
    "                plays.loc[i,'defenseTE'] = float(j[0])\n",
    "            if \"RB\" in j:\n",
    "                plays.loc[i,'defenseRB'] = float(j[0])\n",
    "            if \"QB\" in j:\n",
    "                plays.loc[i,'defenseQB'] = float(j[0])\n",
    "                \n",
    "    # Next we check which records do not have a full 11 man line up yet\n",
    "    positions = ['defenseDL', 'defenseLB', 'defenseDB', 'defenseWR', 'defenseOL', 'defenseTE',\n",
    "                'defenseRB', 'defenseQB']\n",
    "    plays['positions_summed'] = plays[positions].sum(axis=1)\n",
    "    \n",
    "    ###### Clean up the gameClock variable ######\n",
    "    plays['gameClock_minutes'] = plays.gameClock.str.split(\":\").str[0].astype(float)\n",
    "    plays['gameClock_seconds'] = plays.gameClock.str.split(\":\").str[1].astype(float)\n",
    "    plays['secondsInQuarter'] = plays.gameClock_minutes * 60 + plays.gameClock_seconds\n",
    "    plays.drop(['gameClock_minutes', 'gameClock_seconds'], axis = 1, inplace = True)\n",
    "    \n",
    "    ###### Calculate the total number of seconds left in the game ######\n",
    "    plays['quarter_reversed'] = (plays.quarter - 4) * (-1)\n",
    "    plays['secondsInGame'] = plays.quarter_reversed * 900 + plays.secondsInQuarter\n",
    "    plays[plays['secondsInGame'] < 0] = np.NaN\n",
    "    plays.drop('quarter_reversed', axis = 1, inplace = True)\n",
    "    \n",
    "    ###### Calculate the absolute yardline number, excluding end zones ######\n",
    "    plays.absoluteYardlineNumber = plays.absoluteYardlineNumber - 10\n",
    "    \n",
    "    ###### Split out the relevant penalty codes into separate columns ######\n",
    "    # First we split the penalty codes by the semicolon delimiter and dummy-code them\n",
    "    penalties = plays.penaltyCodes.str.split(\";\", expand=True).stack().str.get_dummies().sum(level=0)\n",
    "    # We're only interested in defensive and offensive pass interference, illegal contact and defensive holding.\n",
    "    penalties = penalties[['DPI','OPI','ICT','DH']].copy()\n",
    "    # We join the table with the original plays data\n",
    "    plays = plays.join(penalties)\n",
    "    # Plays without penalties get a 0 instead of a NaN for the penalty columns\n",
    "    plays[['DPI','OPI','ICT','DH']] = plays[['DPI','OPI','ICT','DH']].fillna(0)\n",
    "    plays.ICT = plays.ICT.astype(str).replace(\"2.0\",\"1.0\").astype(float)\n",
    "    plays.DH = plays.DH.astype(str).replace(\"2.0\",\"1.0\").astype(float)\n",
    "    plays.drop('penaltyCodes', axis = 1, inplace = True)\n",
    "    \n",
    "    ###### Drop the penaltyJerseyNumber variable ######\n",
    "    plays.drop('penaltyJerseyNumbers', axis = 1, inplace = True)\n",
    "    \n",
    "    ###### Drop rows where passresult is 'R' and reset the index ######\n",
    "    plays = plays[plays['passResult'] != 'R'].reset_index(drop=True)\n",
    "    \n",
    "    ###### Drop the 'isDefensivePI' variable ######\n",
    "    plays.drop('isDefensivePI', axis = 1, inplace = True)\n",
    "    \n",
    "    ###### Drop the play where we see excessive player speeds ######\n",
    "    plays = plays.drop(plays[(plays['gameId'] == 2018102101) & (plays['playId'] == 3078)].index)\n",
    "    \n",
    "plays = clean_plays_data(plays)"
   ]
  },
  {
   "cell_type": "code",
   "execution_count": 6,
   "metadata": {},
   "outputs": [],
   "source": [
    "# Clean tracking data\n",
    "########## TO DO #############"
   ]
  },
  {
   "cell_type": "markdown",
   "metadata": {},
   "source": [
    "# 2. Data Visualization\n",
    "We've learnt that in our tracking data, we have the following information:\n",
    "* For each play we have a number of data points on most players on offense and defense (except for the offensive and defensive line)\n",
    "* These data points represent the players or balls position on the field, direction and speed.\n",
    "* A number of timestamps in the play are marked as specific events, such as the moment of the snap, the moment of the pass, the arrival of the pass, etc.\n",
    "\n",
    "The above information on each play, gives us a lot of information to visualize each play, helping us to gain some more insights into the data we have access to.\n",
    "To do this, we're going to visualize the following:\n",
    "* The starting position of each tracked player and the ball on the field at the start of a play.\n",
    "* The routes that each tracked player runs and the track of the ball on the field throughout the play.\n",
    "\n",
    "Using a few custom functions, we can visualize the data."
   ]
  },
  {
   "cell_type": "code",
   "execution_count": null,
   "metadata": {},
   "outputs": [],
   "source": [
    "# Function to plot data labels to scatterplots\n",
    "def set_labels(x, y, val, ax):\n",
    "    a = pd.concat({'x': x, 'y': y, 'val': val}, axis=1)\n",
    "    for i, point in a.iterrows():\n",
    "        ax.text(point['x']+.3, point['y']+.3, str(point['val']))"
   ]
  },
  {
   "cell_type": "code",
   "execution_count": null,
   "metadata": {},
   "outputs": [],
   "source": [
    "# Function to plot positions at a particular event on the field\n",
    "# Valid event choices are: snap; pass; pass_arrived; pass_caught; tackle; contact; pass_cinomplete; play_action;\n",
    "# out_of_bounds; line_set; sack; first; last\n",
    "\n",
    "def plot_event_positions(event, gameId = 2018090600, playId = 75):\n",
    "    # Set the event labels\n",
    "    event_labels = {'snap':'ball_snap', 'pass':'pass_forward', 'pass_arrived':'pass_arrived',\n",
    "                'pass_caught':'pass_outcome_caught', 'tackle':'tackle', 'contact':'first_contact',\n",
    "                'pass_incomplete':'pass_outcome_incomplete', 'play_action':'play_action',\n",
    "                'out_of_bounds':'out_of_bounds', 'line_set':'line_set', 'sack':'qb_sack'\n",
    "                }\n",
    "    \n",
    "    # First we filter out the necessary data\n",
    "    # We start by filtering out the relevant game and play data\n",
    "    example_play = tracking[(tracking['gameId'] == gameId) & \n",
    "                            (tracking['playId'] == playId)]\n",
    "    # Then we filter out the correct event\n",
    "    if event == 'first':\n",
    "        example_play = example_play[example_play['frameId'] == 1]\n",
    "    elif event == 'last':\n",
    "        example_play = example_play[example_play['frameId'] == max(example_play['frameId'])]\n",
    "    elif event in event_labels.keys():\n",
    "        if event_labels[event] in list(example_play.event):\n",
    "            example_play = example_play[example_play['event'] == event_labels[event]]\n",
    "        else:\n",
    "            return(print('The selected event does not occur in the selected play'))\n",
    "    else:\n",
    "        return(print('The selected event is not valid'))\n",
    "    example_play.reset_index(drop=True, inplace = True)\n",
    "    \n",
    "    # Set the line of scrimmage\n",
    "    LOS = example_play.absoluteYardlineNumber[0] + 10\n",
    "    \n",
    "    # Next we use seaborn to create a scatterplot of the data\n",
    "    fig, ax = plt.subplots(figsize = (14.4, 6.4))\n",
    "    g = sns.scatterplot(data = example_play\n",
    "                       , x = 'x', y = 'y'\n",
    "                       , hue = 'side' # Do we need this if we also set style?\n",
    "                       , s = 200\n",
    "                       , style = 'side'\n",
    "                       , markers = {'offense': 'X', 'defense':'o', 'football':'D'}\n",
    "                       )\n",
    "    plt.axvline(x = LOS, lw = 4, c = 'red')\n",
    "    # Set the size of the plot to include the full football field\n",
    "    g.set(xlim=(0,120))\n",
    "    g.set(ylim=(0,53.3))\n",
    "    \n",
    "    # Use our custom set_labels function to assign labels to the markers\n",
    "    set_labels(example_play.x, example_play.y, example_play.position, plt.gca())\n",
    "    \n",
    "    # Add the picture of the football field to the background\n",
    "    ### NOTE: THE ASSIGNMENT REQUIRES THAT NO EXTERNAL DATA IS ADDED, SO THIS WILL NEED\n",
    "    ### TO BE REPLACED BY A WAY OF SHOWING THE FOOTBALL FIELD WITHOUT AN IMPORTED IMAGE\n",
    "    with open('../Resources/football_field.png', 'rb') as file:\n",
    "        img = plt.imread(file, 'PNG')\n",
    "    plt.imshow(img, zorder = 0, extent = [0.0, 120.0, 0.00, 53.3])"
   ]
  },
  {
   "cell_type": "code",
   "execution_count": null,
   "metadata": {},
   "outputs": [],
   "source": [
    "# Function to plot routes on the field\n",
    "def plot_routes(gameId = 2018090600, playId = 75):\n",
    "    # First we filter out the necessary data\n",
    "    # This means getting the data for the game and play\n",
    "    example_play = tracking[(tracking['gameId'] == gameId) &\n",
    "                            (tracking['playId'] == playId)\n",
    "                           ]\n",
    "    example_play.reset_index(drop = True, inplace = True)\n",
    "    \n",
    "    # Set the line of scrimmage\n",
    "    LOS = example_play.absoluteYardlineNumber[0] + 10\n",
    "    \n",
    "    # Next we use plotly to create a scatterplot for the data where each player and ball is traced.\n",
    "    # Initiate the plotting\n",
    "    fig = go.Figure()\n",
    "    \n",
    "    # Add the offense players traces\n",
    "    for i in pd.unique(example_play[example_play['side'] == 'offense'].nflId):\n",
    "        fig.add_trace(go.Scatter(x = example_play[example_play['nflId'] == i].x\n",
    "                                , y = example_play[example_play['nflId'] == i].y\n",
    "                                , name = example_play[example_play['nflId'] == i].displayName.iloc[0]\n",
    "                                , mode = 'lines+markers'\n",
    "                                , marker_color = 'rgba(83, 51, 237, 1)'\n",
    "                                )\n",
    "                     )\n",
    "        \n",
    "    # Add the defensive players traces\n",
    "    for i in pd.unique(example_play[example_play['side'] == 'defense'].nflId):\n",
    "        fig.add_trace(go.Scatter(x = example_play[example_play['nflId'] == i].x\n",
    "                                , y = example_play[example_play['nflId'] == i].y\n",
    "                                , name = example_play[example_play['nflId'] == i].displayName.iloc[0]\n",
    "                                , mode = 'lines+markers'\n",
    "                                , marker_color = 'rgba(242, 38, 19, 1)'\n",
    "                                )\n",
    "                     )\n",
    "        \n",
    "    # Add the football trace\n",
    "    fig.add_trace(go.Scatter(x = example_play[example_play['nflId'].isnull()].x\n",
    "                            , y = example_play[example_play['nflId'].isnull()].y\n",
    "                            , name = 'football'\n",
    "                            , mode = 'lines+markers'\n",
    "                            , marker_color = 'rgba(240, 255, 0, 1)'\n",
    "                            )\n",
    "                 )\n",
    "    \n",
    "    # Add the line of scrimmage\n",
    "    fig.add_trace(go.Scatter(x = [LOS, LOS]\n",
    "                            , y = [0, 53.3]\n",
    "                            , name = 'line of scrimmage'\n",
    "                            , mode = 'lines'\n",
    "                            , line = dict(\n",
    "                                color = 'rgba(255, 0, 0, 1)'\n",
    "                                , width = 4\n",
    "                                )\n",
    "                            )\n",
    "                 )\n",
    "    \n",
    "    # Set the axes of the plot to include the full football field\n",
    "    fig.update_xaxes(range = [0, 120])\n",
    "    fig.update_yaxes(range = [0, 53.3])\n",
    "    \n",
    "    # Add the background image of a football field\n",
    "    ### NOTE: THE ASSIGNMENT REQUIRES THAT NO EXTERNAL DATA IS ADDED, SO THIS WILL NEED\n",
    "    ### TO BE REPLACED BY A WAY OF SHOWING THE FOOTBALL FIELD WITHOUT AN IMPORTED IMAGE\n",
    "    fig.add_layout_image(\n",
    "        dict(\n",
    "            source=\"../Resources/football_field.png\"\n",
    "            , xref=\"x\"\n",
    "            , yref=\"y\"\n",
    "            , x=0\n",
    "            , y=53.3\n",
    "            , sizex=120\n",
    "            , sizey=53.3\n",
    "            , sizing=\"stretch\"\n",
    "            , opacity=0.8\n",
    "            , layer=\"below\"\n",
    "        )\n",
    "    )\n",
    "    \n",
    "    # Show the plot\n",
    "    fig.show()"
   ]
  },
  {
   "cell_type": "code",
   "execution_count": null,
   "metadata": {},
   "outputs": [],
   "source": [
    "plot_routes()"
   ]
  },
  {
   "cell_type": "code",
   "execution_count": null,
   "metadata": {},
   "outputs": [],
   "source": []
  },
  {
   "cell_type": "code",
   "execution_count": null,
   "metadata": {},
   "outputs": [],
   "source": []
  },
  {
   "cell_type": "code",
   "execution_count": null,
   "metadata": {},
   "outputs": [],
   "source": []
  },
  {
   "cell_type": "code",
   "execution_count": null,
   "metadata": {},
   "outputs": [],
   "source": []
  },
  {
   "cell_type": "code",
   "execution_count": null,
   "metadata": {},
   "outputs": [],
   "source": []
  },
  {
   "cell_type": "code",
   "execution_count": null,
   "metadata": {},
   "outputs": [],
   "source": []
  }
 ],
 "metadata": {
  "kernelspec": {
   "display_name": "Python 3",
   "language": "python",
   "name": "python3"
  },
  "language_info": {
   "codemirror_mode": {
    "name": "ipython",
    "version": 3
   },
   "file_extension": ".py",
   "mimetype": "text/x-python",
   "name": "python",
   "nbconvert_exporter": "python",
   "pygments_lexer": "ipython3",
   "version": "3.7.6"
  }
 },
 "nbformat": 4,
 "nbformat_minor": 4
}
